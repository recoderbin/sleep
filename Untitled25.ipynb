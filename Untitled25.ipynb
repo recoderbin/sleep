{
  "nbformat": 4,
  "nbformat_minor": 0,
  "metadata": {
    "colab": {
      "provenance": []
    },
    "kernelspec": {
      "name": "python3",
      "display_name": "Python 3"
    },
    "language_info": {
      "name": "python"
    }
  },
  "cells": [
    {
      "cell_type": "code",
      "source": [
        "!pip install kaggle"
      ],
      "metadata": {
        "colab": {
          "base_uri": "https://localhost:8080/"
        },
        "id": "AVXwbS2eerGw",
        "outputId": "0ac57637-26f1-49a9-915c-7081d91a53cc"
      },
      "execution_count": 1,
      "outputs": [
        {
          "output_type": "stream",
          "name": "stdout",
          "text": [
            "Requirement already satisfied: kaggle in /usr/local/lib/python3.11/dist-packages (1.7.4.5)\n",
            "Requirement already satisfied: bleach in /usr/local/lib/python3.11/dist-packages (from kaggle) (6.2.0)\n",
            "Requirement already satisfied: certifi>=14.05.14 in /usr/local/lib/python3.11/dist-packages (from kaggle) (2025.4.26)\n",
            "Requirement already satisfied: charset-normalizer in /usr/local/lib/python3.11/dist-packages (from kaggle) (3.4.2)\n",
            "Requirement already satisfied: idna in /usr/local/lib/python3.11/dist-packages (from kaggle) (3.10)\n",
            "Requirement already satisfied: protobuf in /usr/local/lib/python3.11/dist-packages (from kaggle) (5.29.4)\n",
            "Requirement already satisfied: python-dateutil>=2.5.3 in /usr/local/lib/python3.11/dist-packages (from kaggle) (2.9.0.post0)\n",
            "Requirement already satisfied: python-slugify in /usr/local/lib/python3.11/dist-packages (from kaggle) (8.0.4)\n",
            "Requirement already satisfied: requests in /usr/local/lib/python3.11/dist-packages (from kaggle) (2.32.3)\n",
            "Requirement already satisfied: setuptools>=21.0.0 in /usr/local/lib/python3.11/dist-packages (from kaggle) (75.2.0)\n",
            "Requirement already satisfied: six>=1.10 in /usr/local/lib/python3.11/dist-packages (from kaggle) (1.17.0)\n",
            "Requirement already satisfied: text-unidecode in /usr/local/lib/python3.11/dist-packages (from kaggle) (1.3)\n",
            "Requirement already satisfied: tqdm in /usr/local/lib/python3.11/dist-packages (from kaggle) (4.67.1)\n",
            "Requirement already satisfied: urllib3>=1.15.1 in /usr/local/lib/python3.11/dist-packages (from kaggle) (2.4.0)\n",
            "Requirement already satisfied: webencodings in /usr/local/lib/python3.11/dist-packages (from kaggle) (0.5.1)\n"
          ]
        }
      ]
    },
    {
      "cell_type": "code",
      "source": [
        "from google.colab import files\n",
        "files.upload()"
      ],
      "metadata": {
        "colab": {
          "base_uri": "https://localhost:8080/",
          "height": 93
        },
        "id": "J5HBHGuefWpf",
        "outputId": "21f4f5b0-9e89-4df4-9e49-47cb7ae659e6"
      },
      "execution_count": null,
      "outputs": [
        {
          "output_type": "display_data",
          "data": {
            "text/plain": [
              "<IPython.core.display.HTML object>"
            ],
            "text/html": [
              "\n",
              "     <input type=\"file\" id=\"files-bcaed5ee-5546-4fa2-bb08-01e5faa4f3c6\" name=\"files[]\" multiple disabled\n",
              "        style=\"border:none\" />\n",
              "     <output id=\"result-bcaed5ee-5546-4fa2-bb08-01e5faa4f3c6\">\n",
              "      Upload widget is only available when the cell has been executed in the\n",
              "      current browser session. Please rerun this cell to enable.\n",
              "      </output>\n",
              "      <script>// Copyright 2017 Google LLC\n",
              "//\n",
              "// Licensed under the Apache License, Version 2.0 (the \"License\");\n",
              "// you may not use this file except in compliance with the License.\n",
              "// You may obtain a copy of the License at\n",
              "//\n",
              "//      http://www.apache.org/licenses/LICENSE-2.0\n",
              "//\n",
              "// Unless required by applicable law or agreed to in writing, software\n",
              "// distributed under the License is distributed on an \"AS IS\" BASIS,\n",
              "// WITHOUT WARRANTIES OR CONDITIONS OF ANY KIND, either express or implied.\n",
              "// See the License for the specific language governing permissions and\n",
              "// limitations under the License.\n",
              "\n",
              "/**\n",
              " * @fileoverview Helpers for google.colab Python module.\n",
              " */\n",
              "(function(scope) {\n",
              "function span(text, styleAttributes = {}) {\n",
              "  const element = document.createElement('span');\n",
              "  element.textContent = text;\n",
              "  for (const key of Object.keys(styleAttributes)) {\n",
              "    element.style[key] = styleAttributes[key];\n",
              "  }\n",
              "  return element;\n",
              "}\n",
              "\n",
              "// Max number of bytes which will be uploaded at a time.\n",
              "const MAX_PAYLOAD_SIZE = 100 * 1024;\n",
              "\n",
              "function _uploadFiles(inputId, outputId) {\n",
              "  const steps = uploadFilesStep(inputId, outputId);\n",
              "  const outputElement = document.getElementById(outputId);\n",
              "  // Cache steps on the outputElement to make it available for the next call\n",
              "  // to uploadFilesContinue from Python.\n",
              "  outputElement.steps = steps;\n",
              "\n",
              "  return _uploadFilesContinue(outputId);\n",
              "}\n",
              "\n",
              "// This is roughly an async generator (not supported in the browser yet),\n",
              "// where there are multiple asynchronous steps and the Python side is going\n",
              "// to poll for completion of each step.\n",
              "// This uses a Promise to block the python side on completion of each step,\n",
              "// then passes the result of the previous step as the input to the next step.\n",
              "function _uploadFilesContinue(outputId) {\n",
              "  const outputElement = document.getElementById(outputId);\n",
              "  const steps = outputElement.steps;\n",
              "\n",
              "  const next = steps.next(outputElement.lastPromiseValue);\n",
              "  return Promise.resolve(next.value.promise).then((value) => {\n",
              "    // Cache the last promise value to make it available to the next\n",
              "    // step of the generator.\n",
              "    outputElement.lastPromiseValue = value;\n",
              "    return next.value.response;\n",
              "  });\n",
              "}\n",
              "\n",
              "/**\n",
              " * Generator function which is called between each async step of the upload\n",
              " * process.\n",
              " * @param {string} inputId Element ID of the input file picker element.\n",
              " * @param {string} outputId Element ID of the output display.\n",
              " * @return {!Iterable<!Object>} Iterable of next steps.\n",
              " */\n",
              "function* uploadFilesStep(inputId, outputId) {\n",
              "  const inputElement = document.getElementById(inputId);\n",
              "  inputElement.disabled = false;\n",
              "\n",
              "  const outputElement = document.getElementById(outputId);\n",
              "  outputElement.innerHTML = '';\n",
              "\n",
              "  const pickedPromise = new Promise((resolve) => {\n",
              "    inputElement.addEventListener('change', (e) => {\n",
              "      resolve(e.target.files);\n",
              "    });\n",
              "  });\n",
              "\n",
              "  const cancel = document.createElement('button');\n",
              "  inputElement.parentElement.appendChild(cancel);\n",
              "  cancel.textContent = 'Cancel upload';\n",
              "  const cancelPromise = new Promise((resolve) => {\n",
              "    cancel.onclick = () => {\n",
              "      resolve(null);\n",
              "    };\n",
              "  });\n",
              "\n",
              "  // Wait for the user to pick the files.\n",
              "  const files = yield {\n",
              "    promise: Promise.race([pickedPromise, cancelPromise]),\n",
              "    response: {\n",
              "      action: 'starting',\n",
              "    }\n",
              "  };\n",
              "\n",
              "  cancel.remove();\n",
              "\n",
              "  // Disable the input element since further picks are not allowed.\n",
              "  inputElement.disabled = true;\n",
              "\n",
              "  if (!files) {\n",
              "    return {\n",
              "      response: {\n",
              "        action: 'complete',\n",
              "      }\n",
              "    };\n",
              "  }\n",
              "\n",
              "  for (const file of files) {\n",
              "    const li = document.createElement('li');\n",
              "    li.append(span(file.name, {fontWeight: 'bold'}));\n",
              "    li.append(span(\n",
              "        `(${file.type || 'n/a'}) - ${file.size} bytes, ` +\n",
              "        `last modified: ${\n",
              "            file.lastModifiedDate ? file.lastModifiedDate.toLocaleDateString() :\n",
              "                                    'n/a'} - `));\n",
              "    const percent = span('0% done');\n",
              "    li.appendChild(percent);\n",
              "\n",
              "    outputElement.appendChild(li);\n",
              "\n",
              "    const fileDataPromise = new Promise((resolve) => {\n",
              "      const reader = new FileReader();\n",
              "      reader.onload = (e) => {\n",
              "        resolve(e.target.result);\n",
              "      };\n",
              "      reader.readAsArrayBuffer(file);\n",
              "    });\n",
              "    // Wait for the data to be ready.\n",
              "    let fileData = yield {\n",
              "      promise: fileDataPromise,\n",
              "      response: {\n",
              "        action: 'continue',\n",
              "      }\n",
              "    };\n",
              "\n",
              "    // Use a chunked sending to avoid message size limits. See b/62115660.\n",
              "    let position = 0;\n",
              "    do {\n",
              "      const length = Math.min(fileData.byteLength - position, MAX_PAYLOAD_SIZE);\n",
              "      const chunk = new Uint8Array(fileData, position, length);\n",
              "      position += length;\n",
              "\n",
              "      const base64 = btoa(String.fromCharCode.apply(null, chunk));\n",
              "      yield {\n",
              "        response: {\n",
              "          action: 'append',\n",
              "          file: file.name,\n",
              "          data: base64,\n",
              "        },\n",
              "      };\n",
              "\n",
              "      let percentDone = fileData.byteLength === 0 ?\n",
              "          100 :\n",
              "          Math.round((position / fileData.byteLength) * 100);\n",
              "      percent.textContent = `${percentDone}% done`;\n",
              "\n",
              "    } while (position < fileData.byteLength);\n",
              "  }\n",
              "\n",
              "  // All done.\n",
              "  yield {\n",
              "    response: {\n",
              "      action: 'complete',\n",
              "    }\n",
              "  };\n",
              "}\n",
              "\n",
              "scope.google = scope.google || {};\n",
              "scope.google.colab = scope.google.colab || {};\n",
              "scope.google.colab._files = {\n",
              "  _uploadFiles,\n",
              "  _uploadFilesContinue,\n",
              "};\n",
              "})(self);\n",
              "</script> "
            ]
          },
          "metadata": {}
        },
        {
          "output_type": "stream",
          "name": "stdout",
          "text": [
            "Saving kaggle.json to kaggle.json\n"
          ]
        },
        {
          "output_type": "execute_result",
          "data": {
            "text/plain": [
              "{'kaggle.json': b'{\"username\":\"choiyoungjune\",\"key\":\"3255830dea6a5c12253cf60700211103\"}'}"
            ]
          },
          "metadata": {},
          "execution_count": 2
        }
      ]
    },
    {
      "cell_type": "code",
      "source": [
        "import pandas as pd\n",
        "data_train = pd.read_csv('/content/Sleep_health_and_lifestyle_dataset.csv')\n",
        "print(data_train)"
      ],
      "metadata": {
        "colab": {
          "base_uri": "https://localhost:8080/"
        },
        "id": "glsllCI7fct9",
        "outputId": "e2c68855-6a32-4ebf-b0af-6fb3e02e3c1c"
      },
      "execution_count": 2,
      "outputs": [
        {
          "output_type": "stream",
          "name": "stdout",
          "text": [
            "     Person ID  Gender  Age            Occupation  Sleep Duration  \\\n",
            "0            1    Male   27     Software Engineer             6.1   \n",
            "1            2    Male   28                Doctor             6.2   \n",
            "2            3    Male   28                Doctor             6.2   \n",
            "3            4    Male   28  Sales Representative             5.9   \n",
            "4            5    Male   28  Sales Representative             5.9   \n",
            "..         ...     ...  ...                   ...             ...   \n",
            "369        370  Female   59                 Nurse             8.1   \n",
            "370        371  Female   59                 Nurse             8.0   \n",
            "371        372  Female   59                 Nurse             8.1   \n",
            "372        373  Female   59                 Nurse             8.1   \n",
            "373        374  Female   59                 Nurse             8.1   \n",
            "\n",
            "     Quality of Sleep  Physical Activity Level  Stress Level BMI Category  \\\n",
            "0                   6                       42             6   Overweight   \n",
            "1                   6                       60             8       Normal   \n",
            "2                   6                       60             8       Normal   \n",
            "3                   4                       30             8        Obese   \n",
            "4                   4                       30             8        Obese   \n",
            "..                ...                      ...           ...          ...   \n",
            "369                 9                       75             3   Overweight   \n",
            "370                 9                       75             3   Overweight   \n",
            "371                 9                       75             3   Overweight   \n",
            "372                 9                       75             3   Overweight   \n",
            "373                 9                       75             3   Overweight   \n",
            "\n",
            "    Blood Pressure  Heart Rate  Daily Steps Sleep Disorder  \n",
            "0           126/83          77         4200            NaN  \n",
            "1           125/80          75        10000            NaN  \n",
            "2           125/80          75        10000            NaN  \n",
            "3           140/90          85         3000    Sleep Apnea  \n",
            "4           140/90          85         3000    Sleep Apnea  \n",
            "..             ...         ...          ...            ...  \n",
            "369         140/95          68         7000    Sleep Apnea  \n",
            "370         140/95          68         7000    Sleep Apnea  \n",
            "371         140/95          68         7000    Sleep Apnea  \n",
            "372         140/95          68         7000    Sleep Apnea  \n",
            "373         140/95          68         7000    Sleep Apnea  \n",
            "\n",
            "[374 rows x 13 columns]\n"
          ]
        }
      ]
    },
    {
      "cell_type": "code",
      "source": [
        "# 'Person ID'는 학습에 불필요하므로 제거\n",
        "data_train = data_train.drop(columns=[\"Person ID\"])\n",
        "\n",
        "# 입력(X)과 타겟(y) 분리\n",
        "X = data_train.drop(columns=[\"Sleep Disorder\"])\n",
        "y = data_train[\"Sleep Disorder\"]"
      ],
      "metadata": {
        "id": "7v34eT8XwKwt"
      },
      "execution_count": 3,
      "outputs": []
    },
    {
      "cell_type": "code",
      "source": [
        "from sklearn.preprocessing import LabelEncoder\n",
        "\n",
        "label_encoder = LabelEncoder()\n",
        "y_encoded = label_encoder.fit_transform(y)\n",
        "\n",
        "# 클래스 확인\n",
        "print(\"클래스 목록:\", label_encoder.classes_)\n",
        "print(\"인코딩 결과:\", y_encoded[:10])\n"
      ],
      "metadata": {
        "colab": {
          "base_uri": "https://localhost:8080/"
        },
        "id": "Wf44nq52wLtP",
        "outputId": "556a404d-3524-4bf9-cfd3-59487dd31dd7"
      },
      "execution_count": 4,
      "outputs": [
        {
          "output_type": "stream",
          "name": "stdout",
          "text": [
            "클래스 목록: ['Insomnia' 'Sleep Apnea' nan]\n",
            "인코딩 결과: [2 2 2 1 1 0 0 2 2 2]\n"
          ]
        }
      ]
    },
    {
      "cell_type": "code",
      "source": [
        "from sklearn.preprocessing import StandardScaler, OneHotEncoder\n",
        "from sklearn.compose import ColumnTransformer\n",
        "\n",
        "# 범주형 컬럼과 수치형 컬럼 나누기\n",
        "categorical_features = [\"Gender\", \"Occupation\", \"BMI Category\", \"Blood Pressure\"]\n",
        "numerical_features = [col for col in X.columns if col not in categorical_features]\n",
        "\n",
        "# ColumnTransformer로 전처리 정의\n",
        "preprocessor = ColumnTransformer(transformers=[\n",
        "    (\"num\", StandardScaler(), numerical_features),\n",
        "    (\"cat\", OneHotEncoder(handle_unknown=\"ignore\"), categorical_features)\n",
        "])\n",
        "\n",
        "# 전처리 적용\n",
        "X_processed = preprocessor.fit_transform(X)\n"
      ],
      "metadata": {
        "id": "uCYXA437wNu2"
      },
      "execution_count": 5,
      "outputs": []
    },
    {
      "cell_type": "code",
      "source": [
        "from sklearn.model_selection import train_test_split\n",
        "\n",
        "X_train, X_test, y_train, y_test = train_test_split(\n",
        "    X_processed, y_encoded, test_size=0.2, random_state=42, stratify=y_encoded\n",
        ")\n"
      ],
      "metadata": {
        "id": "H2I1sZPvwQdJ"
      },
      "execution_count": 6,
      "outputs": []
    },
    {
      "cell_type": "code",
      "source": [
        "import tensorflow as tf\n",
        "\n",
        "# 모델 구성\n",
        "model = tf.keras.Sequential([\n",
        "    tf.keras.layers.InputLayer(input_shape=(X_train.shape[1],)),\n",
        "    tf.keras.layers.Dense(64, activation='relu'),\n",
        "    tf.keras.layers.Dense(32, activation='relu'),\n",
        "    tf.keras.layers.Dense(3, activation='softmax')  # 클래스 수: 3개\n",
        "])\n",
        "\n",
        "# 컴파일\n",
        "model.compile(optimizer='adam',\n",
        "              loss='sparse_categorical_crossentropy',\n",
        "              metrics=['accuracy'])\n",
        "\n",
        "# 학습\n",
        "history = model.fit(X_train, y_train, validation_split=0.2, epochs=30, batch_size=16, verbose=1)\n"
      ],
      "metadata": {
        "colab": {
          "base_uri": "https://localhost:8080/"
        },
        "id": "MgrITUFKwm2T",
        "outputId": "c126a100-be8a-4041-db71-da7641f055db"
      },
      "execution_count": 7,
      "outputs": [
        {
          "output_type": "stream",
          "name": "stderr",
          "text": [
            "/usr/local/lib/python3.11/dist-packages/keras/src/layers/core/input_layer.py:27: UserWarning: Argument `input_shape` is deprecated. Use `shape` instead.\n",
            "  warnings.warn(\n"
          ]
        },
        {
          "output_type": "stream",
          "name": "stdout",
          "text": [
            "Epoch 1/30\n",
            "\u001b[1m15/15\u001b[0m \u001b[32m━━━━━━━━━━━━━━━━━━━━\u001b[0m\u001b[37m\u001b[0m \u001b[1m2s\u001b[0m 35ms/step - accuracy: 0.3366 - loss: 1.1257 - val_accuracy: 0.7000 - val_loss: 0.8894\n",
            "Epoch 2/30\n",
            "\u001b[1m15/15\u001b[0m \u001b[32m━━━━━━━━━━━━━━━━━━━━\u001b[0m\u001b[37m\u001b[0m \u001b[1m1s\u001b[0m 12ms/step - accuracy: 0.8422 - loss: 0.8223 - val_accuracy: 0.7333 - val_loss: 0.7010\n",
            "Epoch 3/30\n",
            "\u001b[1m15/15\u001b[0m \u001b[32m━━━━━━━━━━━━━━━━━━━━\u001b[0m\u001b[37m\u001b[0m \u001b[1m0s\u001b[0m 13ms/step - accuracy: 0.8423 - loss: 0.6110 - val_accuracy: 0.9000 - val_loss: 0.5632\n",
            "Epoch 4/30\n",
            "\u001b[1m15/15\u001b[0m \u001b[32m━━━━━━━━━━━━━━━━━━━━\u001b[0m\u001b[37m\u001b[0m \u001b[1m0s\u001b[0m 12ms/step - accuracy: 0.8950 - loss: 0.4986 - val_accuracy: 0.9000 - val_loss: 0.4769\n",
            "Epoch 5/30\n",
            "\u001b[1m15/15\u001b[0m \u001b[32m━━━━━━━━━━━━━━━━━━━━\u001b[0m\u001b[37m\u001b[0m \u001b[1m0s\u001b[0m 14ms/step - accuracy: 0.8876 - loss: 0.4261 - val_accuracy: 0.9000 - val_loss: 0.4080\n",
            "Epoch 6/30\n",
            "\u001b[1m15/15\u001b[0m \u001b[32m━━━━━━━━━━━━━━━━━━━━\u001b[0m\u001b[37m\u001b[0m \u001b[1m0s\u001b[0m 13ms/step - accuracy: 0.9141 - loss: 0.3586 - val_accuracy: 0.9000 - val_loss: 0.3663\n",
            "Epoch 7/30\n",
            "\u001b[1m15/15\u001b[0m \u001b[32m━━━━━━━━━━━━━━━━━━━━\u001b[0m\u001b[37m\u001b[0m \u001b[1m0s\u001b[0m 17ms/step - accuracy: 0.8978 - loss: 0.3430 - val_accuracy: 0.9000 - val_loss: 0.3496\n",
            "Epoch 8/30\n",
            "\u001b[1m15/15\u001b[0m \u001b[32m━━━━━━━━━━━━━━━━━━━━\u001b[0m\u001b[37m\u001b[0m \u001b[1m1s\u001b[0m 19ms/step - accuracy: 0.8797 - loss: 0.4022 - val_accuracy: 0.9000 - val_loss: 0.3339\n",
            "Epoch 9/30\n",
            "\u001b[1m15/15\u001b[0m \u001b[32m━━━━━━━━━━━━━━━━━━━━\u001b[0m\u001b[37m\u001b[0m \u001b[1m1s\u001b[0m 20ms/step - accuracy: 0.8949 - loss: 0.3461 - val_accuracy: 0.9000 - val_loss: 0.3350\n",
            "Epoch 10/30\n",
            "\u001b[1m15/15\u001b[0m \u001b[32m━━━━━━━━━━━━━━━━━━━━\u001b[0m\u001b[37m\u001b[0m \u001b[1m1s\u001b[0m 20ms/step - accuracy: 0.9028 - loss: 0.3278 - val_accuracy: 0.9167 - val_loss: 0.3300\n",
            "Epoch 11/30\n",
            "\u001b[1m15/15\u001b[0m \u001b[32m━━━━━━━━━━━━━━━━━━━━\u001b[0m\u001b[37m\u001b[0m \u001b[1m0s\u001b[0m 12ms/step - accuracy: 0.9208 - loss: 0.2898 - val_accuracy: 0.9167 - val_loss: 0.3265\n",
            "Epoch 12/30\n",
            "\u001b[1m15/15\u001b[0m \u001b[32m━━━━━━━━━━━━━━━━━━━━\u001b[0m\u001b[37m\u001b[0m \u001b[1m0s\u001b[0m 14ms/step - accuracy: 0.9525 - loss: 0.2142 - val_accuracy: 0.9167 - val_loss: 0.3223\n",
            "Epoch 13/30\n",
            "\u001b[1m15/15\u001b[0m \u001b[32m━━━━━━━━━━━━━━━━━━━━\u001b[0m\u001b[37m\u001b[0m \u001b[1m0s\u001b[0m 15ms/step - accuracy: 0.9112 - loss: 0.3194 - val_accuracy: 0.9167 - val_loss: 0.3272\n",
            "Epoch 14/30\n",
            "\u001b[1m15/15\u001b[0m \u001b[32m━━━━━━━━━━━━━━━━━━━━\u001b[0m\u001b[37m\u001b[0m \u001b[1m0s\u001b[0m 14ms/step - accuracy: 0.8959 - loss: 0.3398 - val_accuracy: 0.9167 - val_loss: 0.3294\n",
            "Epoch 15/30\n",
            "\u001b[1m15/15\u001b[0m \u001b[32m━━━━━━━━━━━━━━━━━━━━\u001b[0m\u001b[37m\u001b[0m \u001b[1m0s\u001b[0m 15ms/step - accuracy: 0.9377 - loss: 0.2571 - val_accuracy: 0.9167 - val_loss: 0.3271\n",
            "Epoch 16/30\n",
            "\u001b[1m15/15\u001b[0m \u001b[32m━━━━━━━━━━━━━━━━━━━━\u001b[0m\u001b[37m\u001b[0m \u001b[1m0s\u001b[0m 16ms/step - accuracy: 0.9098 - loss: 0.3264 - val_accuracy: 0.9167 - val_loss: 0.3335\n",
            "Epoch 17/30\n",
            "\u001b[1m15/15\u001b[0m \u001b[32m━━━━━━━━━━━━━━━━━━━━\u001b[0m\u001b[37m\u001b[0m \u001b[1m0s\u001b[0m 16ms/step - accuracy: 0.9316 - loss: 0.2679 - val_accuracy: 0.9167 - val_loss: 0.3288\n",
            "Epoch 18/30\n",
            "\u001b[1m15/15\u001b[0m \u001b[32m━━━━━━━━━━━━━━━━━━━━\u001b[0m\u001b[37m\u001b[0m \u001b[1m0s\u001b[0m 14ms/step - accuracy: 0.8949 - loss: 0.3404 - val_accuracy: 0.9167 - val_loss: 0.3358\n",
            "Epoch 19/30\n",
            "\u001b[1m15/15\u001b[0m \u001b[32m━━━━━━━━━━━━━━━━━━━━\u001b[0m\u001b[37m\u001b[0m \u001b[1m0s\u001b[0m 14ms/step - accuracy: 0.9092 - loss: 0.3256 - val_accuracy: 0.9333 - val_loss: 0.3375\n",
            "Epoch 20/30\n",
            "\u001b[1m15/15\u001b[0m \u001b[32m━━━━━━━━━━━━━━━━━━━━\u001b[0m\u001b[37m\u001b[0m \u001b[1m0s\u001b[0m 15ms/step - accuracy: 0.9408 - loss: 0.2270 - val_accuracy: 0.9167 - val_loss: 0.3412\n",
            "Epoch 21/30\n",
            "\u001b[1m15/15\u001b[0m \u001b[32m━━━━━━━━━━━━━━━━━━━━\u001b[0m\u001b[37m\u001b[0m \u001b[1m0s\u001b[0m 15ms/step - accuracy: 0.9563 - loss: 0.1938 - val_accuracy: 0.9167 - val_loss: 0.3378\n",
            "Epoch 22/30\n",
            "\u001b[1m15/15\u001b[0m \u001b[32m━━━━━━━━━━━━━━━━━━━━\u001b[0m\u001b[37m\u001b[0m \u001b[1m0s\u001b[0m 15ms/step - accuracy: 0.9519 - loss: 0.2001 - val_accuracy: 0.9333 - val_loss: 0.3463\n",
            "Epoch 23/30\n",
            "\u001b[1m15/15\u001b[0m \u001b[32m━━━━━━━━━━━━━━━━━━━━\u001b[0m\u001b[37m\u001b[0m \u001b[1m0s\u001b[0m 20ms/step - accuracy: 0.9275 - loss: 0.2698 - val_accuracy: 0.9333 - val_loss: 0.3522\n",
            "Epoch 24/30\n",
            "\u001b[1m15/15\u001b[0m \u001b[32m━━━━━━━━━━━━━━━━━━━━\u001b[0m\u001b[37m\u001b[0m \u001b[1m1s\u001b[0m 12ms/step - accuracy: 0.9012 - loss: 0.3238 - val_accuracy: 0.9333 - val_loss: 0.3475\n",
            "Epoch 25/30\n",
            "\u001b[1m15/15\u001b[0m \u001b[32m━━━━━━━━━━━━━━━━━━━━\u001b[0m\u001b[37m\u001b[0m \u001b[1m0s\u001b[0m 12ms/step - accuracy: 0.9400 - loss: 0.2427 - val_accuracy: 0.9333 - val_loss: 0.3508\n",
            "Epoch 26/30\n",
            "\u001b[1m15/15\u001b[0m \u001b[32m━━━━━━━━━━━━━━━━━━━━\u001b[0m\u001b[37m\u001b[0m \u001b[1m0s\u001b[0m 14ms/step - accuracy: 0.9182 - loss: 0.2952 - val_accuracy: 0.9333 - val_loss: 0.3632\n",
            "Epoch 27/30\n",
            "\u001b[1m15/15\u001b[0m \u001b[32m━━━━━━━━━━━━━━━━━━━━\u001b[0m\u001b[37m\u001b[0m \u001b[1m0s\u001b[0m 14ms/step - accuracy: 0.9214 - loss: 0.2839 - val_accuracy: 0.9333 - val_loss: 0.3643\n",
            "Epoch 28/30\n",
            "\u001b[1m15/15\u001b[0m \u001b[32m━━━━━━━━━━━━━━━━━━━━\u001b[0m\u001b[37m\u001b[0m \u001b[1m0s\u001b[0m 14ms/step - accuracy: 0.8975 - loss: 0.3239 - val_accuracy: 0.9333 - val_loss: 0.3652\n",
            "Epoch 29/30\n",
            "\u001b[1m15/15\u001b[0m \u001b[32m━━━━━━━━━━━━━━━━━━━━\u001b[0m\u001b[37m\u001b[0m \u001b[1m0s\u001b[0m 14ms/step - accuracy: 0.9294 - loss: 0.2569 - val_accuracy: 0.9333 - val_loss: 0.3682\n",
            "Epoch 30/30\n",
            "\u001b[1m15/15\u001b[0m \u001b[32m━━━━━━━━━━━━━━━━━━━━\u001b[0m\u001b[37m\u001b[0m \u001b[1m0s\u001b[0m 12ms/step - accuracy: 0.9249 - loss: 0.2654 - val_accuracy: 0.9333 - val_loss: 0.3724\n"
          ]
        }
      ]
    },
    {
      "cell_type": "code",
      "source": [
        "# 사용자 입력을 받는 함수 정의\n",
        "import numpy as np\n",
        "import pandas as pd\n",
        "\n",
        "def get_user_input():\n",
        "    user_input = {\n",
        "        \"Gender\": input(\"성별을 입력하세요 (Male/Female): \"),\n",
        "        \"Age\": int(input(\"나이를 입력하세요 (예: 30): \")),\n",
        "        \"Occupation\": input(\"직업을 입력하세요 (예: Doctor, Engineer 등): \"),\n",
        "        \"Sleep Duration\": float(input(\"수면 시간(시간)을 입력하세요 (예: 6.5): \")),\n",
        "        \"Quality of Sleep\": int(input(\"수면의 질 (1~10 사이 숫자): \")),\n",
        "        \"Physical Activity Level\": int(input(\"신체 활동 수준 (0~100): \")),\n",
        "        \"Stress Level\": int(input(\"스트레스 수준 (1~10): \")),\n",
        "        \"BMI Category\": input(\"BMI 상태 (Underweight/Normal/Overweight/Obese): \"),\n",
        "        \"Blood Pressure\": input(\"혈압을 입력하세요 (예: 120/80): \"),\n",
        "        \"Heart Rate\": int(input(\"심박수 (예: 70): \")),\n",
        "        \"Daily Steps\": int(input(\"하루 걸음 수 (예: 8000): \"))\n",
        "    }\n",
        "    return pd.DataFrame([user_input])\n",
        "\n",
        "# 건강 데이터 기반 조언 함수\n",
        "def give_advice(user_df):\n",
        "    advice = []\n",
        "\n",
        "    if user_df[\"Stress Level\"].iloc[0] >= 8:\n",
        "        advice.append(\"😰 스트레스 수치가 매우 높습니다. 명상, 운동, 충분한 수면 등으로 스트레스를 줄이세요.\")\n",
        "\n",
        "    if user_df[\"Sleep Duration\"].iloc[0] < 6:\n",
        "        advice.append(\"🛏️ 수면 시간이 부족합니다. 하루 최소 7시간 수면을 권장합니다.\")\n",
        "    elif user_df[\"Sleep Duration\"].iloc[0] > 9:\n",
        "        advice.append(\"🛌 수면 시간이 과도할 수 있습니다. 피로감의 원인을 점검해보세요.\")\n",
        "\n",
        "    if user_df[\"Quality of Sleep\"].iloc[0] <= 4:\n",
        "        advice.append(\"💤 수면의 질이 낮습니다. 자기 전 스마트폰 사용을 줄이고 편안한 환경을 만들어보세요.\")\n",
        "\n",
        "    if user_df[\"Physical Activity Level\"].iloc[0] < 20:\n",
        "        advice.append(\"🚶 신체 활동이 매우 적습니다. 가벼운 운동이라도 꾸준히 시도해보세요.\")\n",
        "\n",
        "    bmi_category = user_df[\"BMI Category\"].iloc[0]\n",
        "    if bmi_category in [\"Overweight\", \"Obese\"]:\n",
        "        advice.append(\"⚖️ 과체중입니다. 식단과 운동으로 체중을 관리하는 것이 좋습니다.\")\n",
        "\n",
        "    try:\n",
        "        bp = user_df[\"Blood Pressure\"].iloc[0]\n",
        "        systolic = int(bp.split(\"/\")[0])\n",
        "        if systolic >= 140:\n",
        "            advice.append(\"🩸 고혈압 위험이 있습니다. 염분 섭취를 줄이고 건강한 식습관을 유지하세요.\")\n",
        "    except:\n",
        "        advice.append(\"⚠️ 혈압 형식이 올바르지 않습니다. 예: 120/80\")\n",
        "\n",
        "    hr = user_df[\"Heart Rate\"].iloc[0]\n",
        "    if hr < 50 or hr > 100:\n",
        "        advice.append(\"❤️ 심박수가 정상 범위를 벗어났습니다. 상태를 점검해보세요.\")\n",
        "\n",
        "    steps = user_df[\"Daily Steps\"].iloc[0]\n",
        "    if steps < 5000:\n",
        "        advice.append(\"🚶‍♀️ 하루 걸음 수가 부족합니다. 가능한 한 많이 걸으세요. (권장: 7000~10000보)\")\n",
        "\n",
        "    return advice\n",
        "\n",
        "# 사용자 입력 받기\n",
        "user_df = get_user_input()\n",
        "\n",
        "# 전처리 후 예측\n",
        "user_processed = preprocessor.transform(user_df)\n",
        "user_pred_probs = model.predict(user_processed)\n",
        "user_pred_class = np.argmax(user_pred_probs, axis=1)\n",
        "predicted_label = label_encoder.inverse_transform(user_pred_class)\n",
        "\n",
        "# 결과 출력\n",
        "print(f\"\\n🛌 예측된 수면 장애 유형: {predicted_label[0]}\")\n",
        "\n",
        "# 조언 출력\n",
        "print(\"\\n📌 건강 정보 기반 조언:\")\n",
        "advice_list = give_advice(user_df)\n",
        "if advice_list:\n",
        "    for tip in advice_list:\n",
        "        print(\"-\", tip)\n",
        "else:\n",
        "    print(\"👍 현재 입력한 정보에서는 특별한 개선이 필요해 보이지 않습니다!\")\n"
      ],
      "metadata": {
        "colab": {
          "base_uri": "https://localhost:8080/",
          "height": 367
        },
        "id": "iG7aCVN3whds",
        "outputId": "b99ad106-e21e-4cb1-a9d4-148015abf101"
      },
      "execution_count": 8,
      "outputs": [
        {
          "name": "stdout",
          "output_type": "stream",
          "text": [
            "성별을 입력하세요 (Male/Female): Male\n",
            "나이를 입력하세요 (예: 30): 26'\n"
          ]
        },
        {
          "output_type": "error",
          "ename": "ValueError",
          "evalue": "invalid literal for int() with base 10: \"26'\"",
          "traceback": [
            "\u001b[0;31m---------------------------------------------------------------------------\u001b[0m",
            "\u001b[0;31mValueError\u001b[0m                                Traceback (most recent call last)",
            "\u001b[0;32m<ipython-input-8-024cf61253ca>\u001b[0m in \u001b[0;36m<cell line: 0>\u001b[0;34m()\u001b[0m\n\u001b[1;32m     60\u001b[0m \u001b[0;34m\u001b[0m\u001b[0m\n\u001b[1;32m     61\u001b[0m \u001b[0;31m# 사용자 입력 받기\u001b[0m\u001b[0;34m\u001b[0m\u001b[0;34m\u001b[0m\u001b[0m\n\u001b[0;32m---> 62\u001b[0;31m \u001b[0muser_df\u001b[0m \u001b[0;34m=\u001b[0m \u001b[0mget_user_input\u001b[0m\u001b[0;34m(\u001b[0m\u001b[0;34m)\u001b[0m\u001b[0;34m\u001b[0m\u001b[0;34m\u001b[0m\u001b[0m\n\u001b[0m\u001b[1;32m     63\u001b[0m \u001b[0;34m\u001b[0m\u001b[0m\n\u001b[1;32m     64\u001b[0m \u001b[0;31m# 전처리 후 예측\u001b[0m\u001b[0;34m\u001b[0m\u001b[0;34m\u001b[0m\u001b[0m\n",
            "\u001b[0;32m<ipython-input-8-024cf61253ca>\u001b[0m in \u001b[0;36mget_user_input\u001b[0;34m()\u001b[0m\n\u001b[1;32m      6\u001b[0m     user_input = {\n\u001b[1;32m      7\u001b[0m         \u001b[0;34m\"Gender\"\u001b[0m\u001b[0;34m:\u001b[0m \u001b[0minput\u001b[0m\u001b[0;34m(\u001b[0m\u001b[0;34m\"성별을 입력하세요 (Male/Female): \"\u001b[0m\u001b[0;34m)\u001b[0m\u001b[0;34m,\u001b[0m\u001b[0;34m\u001b[0m\u001b[0;34m\u001b[0m\u001b[0m\n\u001b[0;32m----> 8\u001b[0;31m         \u001b[0;34m\"Age\"\u001b[0m\u001b[0;34m:\u001b[0m \u001b[0mint\u001b[0m\u001b[0;34m(\u001b[0m\u001b[0minput\u001b[0m\u001b[0;34m(\u001b[0m\u001b[0;34m\"나이를 입력하세요 (예: 30): \"\u001b[0m\u001b[0;34m)\u001b[0m\u001b[0;34m)\u001b[0m\u001b[0;34m,\u001b[0m\u001b[0;34m\u001b[0m\u001b[0;34m\u001b[0m\u001b[0m\n\u001b[0m\u001b[1;32m      9\u001b[0m         \u001b[0;34m\"Occupation\"\u001b[0m\u001b[0;34m:\u001b[0m \u001b[0minput\u001b[0m\u001b[0;34m(\u001b[0m\u001b[0;34m\"직업을 입력하세요 (예: Doctor, Engineer 등): \"\u001b[0m\u001b[0;34m)\u001b[0m\u001b[0;34m,\u001b[0m\u001b[0;34m\u001b[0m\u001b[0;34m\u001b[0m\u001b[0m\n\u001b[1;32m     10\u001b[0m         \u001b[0;34m\"Sleep Duration\"\u001b[0m\u001b[0;34m:\u001b[0m \u001b[0mfloat\u001b[0m\u001b[0;34m(\u001b[0m\u001b[0minput\u001b[0m\u001b[0;34m(\u001b[0m\u001b[0;34m\"수면 시간(시간)을 입력하세요 (예: 6.5): \"\u001b[0m\u001b[0;34m)\u001b[0m\u001b[0;34m)\u001b[0m\u001b[0;34m,\u001b[0m\u001b[0;34m\u001b[0m\u001b[0;34m\u001b[0m\u001b[0m\n",
            "\u001b[0;31mValueError\u001b[0m: invalid literal for int() with base 10: \"26'\""
          ]
        }
      ]
    },
    {
      "cell_type": "code",
      "source": [
        "import joblib\n",
        "\n",
        "model.save(\"sleep_model.h5\")\n",
        "joblib.dump(preprocessor, \"preprocessor.pkl\")\n",
        "joblib.dump(label_encoder, \"label_encoder.pkl\")\n"
      ],
      "metadata": {
        "colab": {
          "base_uri": "https://localhost:8080/"
        },
        "id": "5If6u5L3K4NQ",
        "outputId": "558467bc-d58c-4d47-e104-275317e24976"
      },
      "execution_count": 10,
      "outputs": [
        {
          "output_type": "stream",
          "name": "stderr",
          "text": [
            "WARNING:absl:You are saving your model as an HDF5 file via `model.save()` or `keras.saving.save_model(model)`. This file format is considered legacy. We recommend using instead the native Keras format, e.g. `model.save('my_model.keras')` or `keras.saving.save_model(model, 'my_model.keras')`. \n"
          ]
        },
        {
          "output_type": "execute_result",
          "data": {
            "text/plain": [
              "['label_encoder.pkl']"
            ]
          },
          "metadata": {},
          "execution_count": 10
        }
      ]
    },
    {
      "cell_type": "code",
      "source": [
        "from flask import Flask, request, jsonify\n",
        "import joblib\n",
        "import numpy as np\n",
        "import tensorflow as tf\n",
        "import pandas as pd\n",
        "\n",
        "app = Flask(__name__)\n",
        "\n",
        "# 모델과 전처리기 로드\n",
        "model = tf.keras.models.load_model(\"sleep_model.h5\")\n",
        "preprocessor = joblib.load(\"preprocessor.pkl\")\n",
        "label_encoder = joblib.load(\"label_encoder.pkl\")\n",
        "\n",
        "@app.route(\"/predict\", methods=[\"POST\"])\n",
        "def predict():\n",
        "    data = request.get_json()\n",
        "\n",
        "    user_df = pd.DataFrame([data])\n",
        "    user_processed = preprocessor.transform(user_df)\n",
        "    user_pred_probs = model.predict(user_processed)\n",
        "    user_pred_class = np.argmax(user_pred_probs, axis=1)\n",
        "    predicted_label = label_encoder.inverse_transform(user_pred_class)\n",
        "\n",
        "    return jsonify({\"prediction\": predicted_label[0]})\n"
      ],
      "metadata": {
        "colab": {
          "base_uri": "https://localhost:8080/"
        },
        "id": "-3jvPS4vLNli",
        "outputId": "24a0eb1d-4c9c-4447-cd25-56de5a9c041f"
      },
      "execution_count": 11,
      "outputs": [
        {
          "output_type": "stream",
          "name": "stderr",
          "text": [
            "WARNING:absl:Compiled the loaded model, but the compiled metrics have yet to be built. `model.compile_metrics` will be empty until you train or evaluate the model.\n"
          ]
        }
      ]
    },
    {
      "cell_type": "markdown",
      "source": [
        "# 새 섹션"
      ],
      "metadata": {
        "id": "Ha6eGo-rmuYC"
      }
    }
  ]
}